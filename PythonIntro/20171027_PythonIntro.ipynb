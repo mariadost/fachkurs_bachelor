{
 "cells": [
  {
   "cell_type": "markdown",
   "metadata": {},
   "source": [
    "## Introduction to Python\n",
    "Maria Dost, Jorin Diemer, Jens Hahn  -  27/10/2017"
   ]
  },
  {
   "cell_type": "markdown",
   "metadata": {},
   "source": [
    "<a id='content' />\n",
    "\n",
    "## Content\n",
    "1. <a href=#intro>Introduction</a>\n",
    "    * Python version\n",
    "    * Ways to write Python\n",
    "2. <a href=#object>Everything is an object</a>\n",
    "    * Objects, instances, methods, attributes\n",
    "    * References, Mutable and Immutable objects \n",
    "3. <a href=#datatypes>Standard data types</a>\n",
    "    * Numeric: ```int```, ```float```, ```complex```\n",
    "    * Sequence: list, tuple, range\n",
    "    * Boolean: True/False\n",
    "    * Text: String\n",
    "4. <a href=#flowcontrol>Operators and Flow Control</a>\n",
    "    * Mathematical/Logical Operators\n",
    "    * ```for```\n",
    "    * ```if```/```else```/```elif```\n",
    "    * ```while```\n",
    "5. <a href=#functions>Functions and Methods</a>\n",
    "    * Definition\n",
    "    * Return\n",
    "6. <a href=#classes>Classes, Objects, and Instances</a>\n",
    "    * Definition\n",
    "    * Instances\n",
    "7. <a href=#literature>Literature & Links</a>"
   ]
  },
  {
   "cell_type": "markdown",
   "metadata": {},
   "source": [
    "***\n",
    "<a id='intro' />\n",
    "### Introduction\n",
    "#### Python 2 or Python 3?\n",
    "<a href=#content>back</a>    \n",
    "\n",
    "Short version: Python 2.x is legacy, Python 3.x is the present and future of the language\n",
    "final \n",
    "\n",
    "* 2.x version 2.7 was released 2010\n",
    "* 3.0 was released in 2008\n",
    "* 3.4 was released 2014\n",
    "* recent standard library improvements are only available in 3.x\n",
    "    \n",
    "    \n",
    "***\n",
    "\n",
    "#### Software\n",
    "A python interactive mode makes it easy to test short snippets of code, but there are also a bunch of editors like Sublime Text available as well as bundled development environments IDEs like PyCharm.\n",
    "\n",
    "We will use:\n",
    "* [Python](https://www.python.org/)\n",
    "* [IPython](http://ipython.org/)\n",
    "* [Jupyter Notebooks](http://jupyter.org/)\n",
    "    \n",
    "You could use:\n",
    "* an editor of your choice like [Sublime Text](https://www.sublimetext.com/)\n",
    "* an IDE, e.g. [PyCharm](https://www.jetbrains.com/pycharm/), [Eclipse](https://www.eclipse.org/), [spyder](https://pythonhosted.org/spyder/), ...\n",
    "* [Jupyter Notebooks](http://jupyter.org/) in your browser"
   ]
  },
  {
   "cell_type": "markdown",
   "metadata": {},
   "source": [
    "***\n",
    "<a id='object'/>\n",
    "## Everything is an object\n",
    "<a href=#content>back</a>"
   ]
  },
  {
   "cell_type": "markdown",
   "metadata": {},
   "source": [
    "***\n",
    "<a id='datatypes'/>\n",
    "## Standard Data Types\n",
    "\n",
    "Everything is an object -> Data types are classes and variables are instances (objects) of these classes\n",
    "\"Ready to use\" classes\n",
    "\n",
    "### Numerical Data Types\n",
    "\n",
    "* We have int, float and complex\n",
    "* When defining a variable, python decides which data type it belongs to\n",
    "* therefore: 1 is an in, 1.0 is a float\n",
    "\n",
    "### Sequence Data Types\n",
    "\n",
    "\n",
    "<a href=#content>back</a>"
   ]
  },
  {
   "cell_type": "markdown",
   "metadata": {},
   "source": [
    "***\n",
    "<a id='flowcontrol'/>\n",
    "## Operators and Flow control\n",
    "<a href=#content>back</a>"
   ]
  },
  {
   "cell_type": "markdown",
   "metadata": {},
   "source": [
    "***\n",
    "<a id='functions'/>\n",
    "## Functions and Methods\n",
    "<a href=#content>back</a>"
   ]
  },
  {
   "cell_type": "markdown",
   "metadata": {},
   "source": [
    "***\n",
    "<a id='classes'/>\n",
    "## Classes, Objects, Instances\n",
    "<a href=#content>back</a>"
   ]
  },
  {
   "cell_type": "markdown",
   "metadata": {},
   "source": [
    "***\n",
    "<a id='literature'/>\n",
    "## Literature & Links\n",
    "<a href=#content>back</a>\n",
    "\n",
    "* [Code Academy](https://www.codeacademy.com) - Interactive online tutorial    \n",
    "* [CheckIO](https://checkio.org/) - Community assignments and games\n",
    "* [Programiz](https://www.programiz.com/) - Good online tutorial\n",
    "* [Python-Course.eu](https://python-course.eu) - Online Course\n",
    "* [Stack Overflow](https://www.stackoverflow.com) - Help Forum\n",
    "* [**edX**](https://www.edx.org/course?search_query=python) - Free lectures\n",
    "* [**Python** Documentation](https://www.python.org/doc/) - Official documentation"
   ]
  },
  {
   "cell_type": "markdown",
   "metadata": {},
   "source": [
    "quizzes"
   ]
  },
  {
   "cell_type": "code",
   "execution_count": 8,
   "metadata": {},
   "outputs": [
    {
     "name": "stdout",
     "output_type": "stream",
     "text": [
      "3 ,  7\n"
     ]
    }
   ],
   "source": [
    "x = 7\n",
    "y = x\n",
    "x = 3\n",
    "print(x,\", \",y)"
   ]
  },
  {
   "cell_type": "code",
   "execution_count": null,
   "metadata": {},
   "outputs": [],
   "source": [
    "i = 0\n",
    "while i < 10:  # how many times evaluated\n",
    "    print(i)\n",
    "    i+=1"
   ]
  }
 ],
 "metadata": {
  "kernelspec": {
   "display_name": "Python 3",
   "language": "python",
   "name": "python3"
  },
  "language_info": {
   "codemirror_mode": {
    "name": "ipython",
    "version": 3
   },
   "file_extension": ".py",
   "mimetype": "text/x-python",
   "name": "python",
   "nbconvert_exporter": "python",
   "pygments_lexer": "ipython3",
   "version": "3.5.3"
  }
 },
 "nbformat": 4,
 "nbformat_minor": 2
}
